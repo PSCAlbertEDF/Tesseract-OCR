{
 "cells": [
  {
   "cell_type": "code",
   "execution_count": 51,
   "metadata": {
    "collapsed": true
   },
   "outputs": [],
   "source": [
    "import os\n",
    "import subprocess\n",
    "\n",
    "def image_to_string(img, cleanup=True, plus=''):\n",
    "    # cleanup为True则识别完成后删除生成的文本文件\n",
    "    # plus参数为给tesseract的附加高级参数\n",
    "    subprocess.check_output('tesseract ' + img + ' ' +\n",
    "                            img + ' ' + plus, shell=True)  # 生成同名txt文件\n",
    "    text = ''\n",
    "    with open(img + '.txt', 'r') as f:\n",
    "        text = f.read().strip()\n",
    "    if cleanup:\n",
    "        os.remove(img + '.txt')\n",
    "    return text\n"
   ]
  },
  {
   "cell_type": "code",
   "execution_count": 52,
   "metadata": {
    "scrolled": true
   },
   "outputs": [
    {
     "name": "stdout",
     "output_type": "stream",
     "text": [
      "BB 002\n",
      "\n",
      "CAYMAN FSLANDS\n"
     ]
    }
   ],
   "source": [
    "print(image_to_string('/Users/yiranchen/Desktop/TesseractVALIDATION/car.jpg',True,'-l eng --psm 1 --oem 2 --bazaar')) "
   ]
  },
  {
   "cell_type": "code",
   "execution_count": null,
   "metadata": {
    "collapsed": true
   },
   "outputs": [],
   "source": []
  },
  {
   "cell_type": "code",
   "execution_count": null,
   "metadata": {
    "collapsed": true
   },
   "outputs": [],
   "source": []
  }
 ],
 "metadata": {
  "kernelspec": {
   "display_name": "Python 2",
   "language": "python",
   "name": "python2"
  },
  "language_info": {
   "codemirror_mode": {
    "name": "ipython",
    "version": 2
   },
   "file_extension": ".py",
   "mimetype": "text/x-python",
   "name": "python",
   "nbconvert_exporter": "python",
   "pygments_lexer": "ipython2",
   "version": "2.7.13"
  }
 },
 "nbformat": 4,
 "nbformat_minor": 2
}
